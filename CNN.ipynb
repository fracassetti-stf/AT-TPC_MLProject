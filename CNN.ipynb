{
 "cells": [
  {
   "cell_type": "code",
   "execution_count": 1,
   "metadata": {},
   "outputs": [
    {
     "name": "stderr",
     "output_type": "stream",
     "text": [
      "C:\\Users\\fraca\\anaconda3\\lib\\site-packages\\tensorflow\\python\\framework\\dtypes.py:516: FutureWarning: Passing (type, 1) or '1type' as a synonym of type is deprecated; in a future version of numpy, it will be understood as (type, (1,)) / '(1,)type'.\n",
      "  _np_qint8 = np.dtype([(\"qint8\", np.int8, 1)])\n",
      "C:\\Users\\fraca\\anaconda3\\lib\\site-packages\\tensorflow\\python\\framework\\dtypes.py:517: FutureWarning: Passing (type, 1) or '1type' as a synonym of type is deprecated; in a future version of numpy, it will be understood as (type, (1,)) / '(1,)type'.\n",
      "  _np_quint8 = np.dtype([(\"quint8\", np.uint8, 1)])\n",
      "C:\\Users\\fraca\\anaconda3\\lib\\site-packages\\tensorflow\\python\\framework\\dtypes.py:518: FutureWarning: Passing (type, 1) or '1type' as a synonym of type is deprecated; in a future version of numpy, it will be understood as (type, (1,)) / '(1,)type'.\n",
      "  _np_qint16 = np.dtype([(\"qint16\", np.int16, 1)])\n",
      "C:\\Users\\fraca\\anaconda3\\lib\\site-packages\\tensorflow\\python\\framework\\dtypes.py:519: FutureWarning: Passing (type, 1) or '1type' as a synonym of type is deprecated; in a future version of numpy, it will be understood as (type, (1,)) / '(1,)type'.\n",
      "  _np_quint16 = np.dtype([(\"quint16\", np.uint16, 1)])\n",
      "C:\\Users\\fraca\\anaconda3\\lib\\site-packages\\tensorflow\\python\\framework\\dtypes.py:520: FutureWarning: Passing (type, 1) or '1type' as a synonym of type is deprecated; in a future version of numpy, it will be understood as (type, (1,)) / '(1,)type'.\n",
      "  _np_qint32 = np.dtype([(\"qint32\", np.int32, 1)])\n",
      "C:\\Users\\fraca\\anaconda3\\lib\\site-packages\\tensorflow\\python\\framework\\dtypes.py:525: FutureWarning: Passing (type, 1) or '1type' as a synonym of type is deprecated; in a future version of numpy, it will be understood as (type, (1,)) / '(1,)type'.\n",
      "  np_resource = np.dtype([(\"resource\", np.ubyte, 1)])\n",
      "C:\\Users\\fraca\\anaconda3\\lib\\site-packages\\tensorboard\\compat\\tensorflow_stub\\dtypes.py:541: FutureWarning: Passing (type, 1) or '1type' as a synonym of type is deprecated; in a future version of numpy, it will be understood as (type, (1,)) / '(1,)type'.\n",
      "  _np_qint8 = np.dtype([(\"qint8\", np.int8, 1)])\n",
      "C:\\Users\\fraca\\anaconda3\\lib\\site-packages\\tensorboard\\compat\\tensorflow_stub\\dtypes.py:542: FutureWarning: Passing (type, 1) or '1type' as a synonym of type is deprecated; in a future version of numpy, it will be understood as (type, (1,)) / '(1,)type'.\n",
      "  _np_quint8 = np.dtype([(\"quint8\", np.uint8, 1)])\n",
      "C:\\Users\\fraca\\anaconda3\\lib\\site-packages\\tensorboard\\compat\\tensorflow_stub\\dtypes.py:543: FutureWarning: Passing (type, 1) or '1type' as a synonym of type is deprecated; in a future version of numpy, it will be understood as (type, (1,)) / '(1,)type'.\n",
      "  _np_qint16 = np.dtype([(\"qint16\", np.int16, 1)])\n",
      "C:\\Users\\fraca\\anaconda3\\lib\\site-packages\\tensorboard\\compat\\tensorflow_stub\\dtypes.py:544: FutureWarning: Passing (type, 1) or '1type' as a synonym of type is deprecated; in a future version of numpy, it will be understood as (type, (1,)) / '(1,)type'.\n",
      "  _np_quint16 = np.dtype([(\"quint16\", np.uint16, 1)])\n",
      "C:\\Users\\fraca\\anaconda3\\lib\\site-packages\\tensorboard\\compat\\tensorflow_stub\\dtypes.py:545: FutureWarning: Passing (type, 1) or '1type' as a synonym of type is deprecated; in a future version of numpy, it will be understood as (type, (1,)) / '(1,)type'.\n",
      "  _np_qint32 = np.dtype([(\"qint32\", np.int32, 1)])\n",
      "C:\\Users\\fraca\\anaconda3\\lib\\site-packages\\tensorboard\\compat\\tensorflow_stub\\dtypes.py:550: FutureWarning: Passing (type, 1) or '1type' as a synonym of type is deprecated; in a future version of numpy, it will be understood as (type, (1,)) / '(1,)type'.\n",
      "  np_resource = np.dtype([(\"resource\", np.ubyte, 1)])\n",
      "Using TensorFlow backend.\n"
     ]
    }
   ],
   "source": [
    "# Common import\n",
    "\n",
    "import os\n",
    "\n",
    "\n",
    "import seaborn as sns\n",
    "import tensorflow as tf\n",
    "import numpy as np\n",
    "import matplotlib.pyplot as plt\n",
    "from mpl_toolkits.mplot3d import Axes3D # <--- This is important for 3d plotting \n",
    "import h5py\n",
    "import pandas as pd\n",
    "from sklearn.model_selection import train_test_split\n",
    "from sklearn.metrics import (accuracy_score, confusion_matrix, f1_score, \n",
    "                             matthews_corrcoef, roc_curve, roc_auc_score, classification_report)\n",
    "\n",
    "from keras.models import Sequential\n",
    "from tensorflow.keras.layers import Dense, Dropout, LSTM, BatchNormalization\n",
    "from keras.callbacks import TensorBoard\n",
    "from keras.callbacks import ModelCheckpoint\n",
    "from keras.optimizers import Adam\n",
    "\n",
    "from keras.models import Model\n",
    "from keras.layers import Dense,Flatten\n",
    "from keras.applications import vgg16\n",
    "from keras import backend as K\n",
    "\n",
    "from functools import reduce # for union of more than 2 arrays\n",
    "BatchNormalization\n",
    "from helper_functions import *\n",
    "\n",
    "# This is simply an alias for convenience\n",
    "layers = tf.keras.layers\n",
    "\n",
    "#Fixing seed for reproducibility\n",
    "np.random.seed(42)"
   ]
  },
  {
   "cell_type": "code",
   "execution_count": 2,
   "metadata": {},
   "outputs": [
    {
     "name": "stdout",
     "output_type": "stream",
     "text": [
      "Dataset contains 2000 events\n",
      "Data contains 5 empty events, of indexes: [384, 430, 484, 914, 1204]\n",
      "\n",
      "Dataset contains 1995 non-empty events:\n",
      "995 Beam Events, and 1000 Reaction Events\n",
      "\n"
     ]
    }
   ],
   "source": [
    "# Loading DataSet\n",
    "local_data = './DataFiles/Mg22_alphaalpha_digiSim.h5'\n",
    "hf = h5py.File(local_data, 'r')\n",
    "\n",
    "# The function load_fata (helper_functions.py) performes the operation mentioned above.\n",
    "DataList, Labels = load_data(hf)\n",
    "hf.close() # closing file"
   ]
  },
  {
   "cell_type": "code",
   "execution_count": 3,
   "metadata": {},
   "outputs": [
    {
     "name": "stdout",
     "output_type": "stream",
     "text": [
      "Dataset was divided into:\n",
      "1615 training events,\n",
      "180  validation events, and\n",
      "200  test events\n"
     ]
    }
   ],
   "source": [
    "# Create an ordered index list : [0,1,2,...,len(DataList)]\n",
    "x_idx = np.arange(len(DataList))\n",
    "\n",
    "# Splitting in train+validation (90% in total), and test (10%)\n",
    "trainval_idx, test_idx, not_used1, not_used2 = train_test_split(x_idx, x_idx, test_size = 0.10)\n",
    "\n",
    "# Splitting the remaining part (90% of the original DataSet): Training (90%) and Validation (10%)\n",
    "train_idx, val_idx, not_used3, not_used4 = train_test_split(trainval_idx, trainval_idx, test_size = 0.10)\n",
    "\n",
    "print(\"Dataset was divided into:\")\n",
    "print(str(len(train_idx)) + \" training events,\")\n",
    "print(str(len(val_idx)) + \"  validation events, and\")\n",
    "print(str(len(test_idx)) + \"  test events\")"
   ]
  },
  {
   "cell_type": "code",
   "execution_count": 4,
   "metadata": {},
   "outputs": [],
   "source": [
    "# Computing Features through the function calc_features (helper_functions.py)\n",
    "(MeanXPerEvent, MeanYPerEvent, MeanZPerEvent, SumAPerEvent, \n",
    "PadsPerEvent, MeanWeightedXPerEvent, MeanWeightedYPerEvent, \n",
    "StDevXPerEvent, StDevYPerEvent, StDevZPerEvent,FracClosePtsPerEvent) = calc_features(DataList)"
   ]
  },
  {
   "cell_type": "code",
   "execution_count": 5,
   "metadata": {},
   "outputs": [],
   "source": [
    "# Some definition before plotting \n",
    "\n",
    "# Splitting train_ind into beam and reaction indexes\n",
    "train_r_idx = [] # List of indexes of \"Reaction\" training event\n",
    "train_b_idx = [] # List of indexes of \"Beam\" training event\n",
    "\n",
    "for i in train_idx:\n",
    "    if Labels[i]>0.5:\n",
    "        train_r_idx.append(i) # Indexes of \"Reaction\" training data\n",
    "    else:\n",
    "        train_b_idx.append(i) # Indexes of \"Beam\" training data\n",
    "        \n",
    "# Converting into numpy array for later use\n",
    "train_r_idx = np.array(train_r_idx) \n",
    "train_b_idx = np.array(train_b_idx)\n",
    "\n",
    "# Defining colours for histograms and scatter plot\n",
    "b_color = 'black'\n",
    "r_color = 'blue'\n",
    "\n",
    "#Define legend for 2d (scatter)plots\n",
    "from matplotlib.lines import Line2D\n",
    "legend_elements = [Line2D([0], [0], marker='o', color='w', label='Beam', markerfacecolor=b_color, markersize=15),\n",
    "                   Line2D([0], [0], marker='o', color='w', label='Reaction', markerfacecolor=r_color, markersize=15)]"
   ]
  },
  {
   "cell_type": "code",
   "execution_count": 7,
   "metadata": {},
   "outputs": [
    {
     "name": "stdout",
     "output_type": "stream",
     "text": [
      "Design Matrix X:\n"
     ]
    },
    {
     "data": {
      "text/html": [
       "<div>\n",
       "<style scoped>\n",
       "    .dataframe tbody tr th:only-of-type {\n",
       "        vertical-align: middle;\n",
       "    }\n",
       "\n",
       "    .dataframe tbody tr th {\n",
       "        vertical-align: top;\n",
       "    }\n",
       "\n",
       "    .dataframe thead th {\n",
       "        text-align: right;\n",
       "    }\n",
       "</style>\n",
       "<table border=\"1\" class=\"dataframe\">\n",
       "  <thead>\n",
       "    <tr style=\"text-align: right;\">\n",
       "      <th></th>\n",
       "      <th>Mean Z</th>\n",
       "      <th>stdev(X)</th>\n",
       "      <th>FCP</th>\n",
       "      <th>Total Q</th>\n",
       "      <th>Pads</th>\n",
       "    </tr>\n",
       "  </thead>\n",
       "  <tbody>\n",
       "    <tr>\n",
       "      <th>0</th>\n",
       "      <td>961.083333</td>\n",
       "      <td>0.930198</td>\n",
       "      <td>1.000000</td>\n",
       "      <td>41292.864135</td>\n",
       "      <td>24.0</td>\n",
       "    </tr>\n",
       "    <tr>\n",
       "      <th>1</th>\n",
       "      <td>661.897436</td>\n",
       "      <td>5.692321</td>\n",
       "      <td>0.097436</td>\n",
       "      <td>322786.822798</td>\n",
       "      <td>195.0</td>\n",
       "    </tr>\n",
       "    <tr>\n",
       "      <th>2</th>\n",
       "      <td>877.083333</td>\n",
       "      <td>0.930198</td>\n",
       "      <td>1.000000</td>\n",
       "      <td>89094.206758</td>\n",
       "      <td>24.0</td>\n",
       "    </tr>\n",
       "    <tr>\n",
       "      <th>3</th>\n",
       "      <td>529.016129</td>\n",
       "      <td>0.646942</td>\n",
       "      <td>0.153226</td>\n",
       "      <td>168967.813590</td>\n",
       "      <td>124.0</td>\n",
       "    </tr>\n",
       "    <tr>\n",
       "      <th>4</th>\n",
       "      <td>938.916667</td>\n",
       "      <td>0.930198</td>\n",
       "      <td>1.000000</td>\n",
       "      <td>34598.337410</td>\n",
       "      <td>24.0</td>\n",
       "    </tr>\n",
       "    <tr>\n",
       "      <th>...</th>\n",
       "      <td>...</td>\n",
       "      <td>...</td>\n",
       "      <td>...</td>\n",
       "      <td>...</td>\n",
       "      <td>...</td>\n",
       "    </tr>\n",
       "    <tr>\n",
       "      <th>1990</th>\n",
       "      <td>485.930818</td>\n",
       "      <td>3.872534</td>\n",
       "      <td>0.062893</td>\n",
       "      <td>364154.705449</td>\n",
       "      <td>318.0</td>\n",
       "    </tr>\n",
       "    <tr>\n",
       "      <th>1991</th>\n",
       "      <td>817.750000</td>\n",
       "      <td>0.930198</td>\n",
       "      <td>1.000000</td>\n",
       "      <td>117215.746684</td>\n",
       "      <td>24.0</td>\n",
       "    </tr>\n",
       "    <tr>\n",
       "      <th>1992</th>\n",
       "      <td>526.930233</td>\n",
       "      <td>0.782013</td>\n",
       "      <td>0.418605</td>\n",
       "      <td>37851.885998</td>\n",
       "      <td>43.0</td>\n",
       "    </tr>\n",
       "    <tr>\n",
       "      <th>1993</th>\n",
       "      <td>940.083333</td>\n",
       "      <td>0.930198</td>\n",
       "      <td>1.000000</td>\n",
       "      <td>45542.970478</td>\n",
       "      <td>24.0</td>\n",
       "    </tr>\n",
       "    <tr>\n",
       "      <th>1994</th>\n",
       "      <td>701.306667</td>\n",
       "      <td>1.401799</td>\n",
       "      <td>0.293333</td>\n",
       "      <td>260079.247142</td>\n",
       "      <td>75.0</td>\n",
       "    </tr>\n",
       "  </tbody>\n",
       "</table>\n",
       "<p>1995 rows × 5 columns</p>\n",
       "</div>"
      ],
      "text/plain": [
       "          Mean Z  stdev(X)       FCP        Total Q   Pads\n",
       "0     961.083333  0.930198  1.000000   41292.864135   24.0\n",
       "1     661.897436  5.692321  0.097436  322786.822798  195.0\n",
       "2     877.083333  0.930198  1.000000   89094.206758   24.0\n",
       "3     529.016129  0.646942  0.153226  168967.813590  124.0\n",
       "4     938.916667  0.930198  1.000000   34598.337410   24.0\n",
       "...          ...       ...       ...            ...    ...\n",
       "1990  485.930818  3.872534  0.062893  364154.705449  318.0\n",
       "1991  817.750000  0.930198  1.000000  117215.746684   24.0\n",
       "1992  526.930233  0.782013  0.418605   37851.885998   43.0\n",
       "1993  940.083333  0.930198  1.000000   45542.970478   24.0\n",
       "1994  701.306667  1.401799  0.293333  260079.247142   75.0\n",
       "\n",
       "[1995 rows x 5 columns]"
      ]
     },
     "execution_count": 7,
     "metadata": {},
     "output_type": "execute_result"
    }
   ],
   "source": [
    "xSimple = np.zeros((len(DataList),5)) # Design Matrix with 5 features\n",
    "\n",
    "# Filling the matrix\n",
    "for i in range(len(DataList)):\n",
    "    xSimple[i][0] = MeanZPerEvent[i]\n",
    "    xSimple[i][1] = StDevXPerEvent[i]\n",
    "    xSimple[i][2] = FracClosePtsPerEvent[i]\n",
    "    xSimple[i][3] = SumAPerEvent[i]\n",
    "    xSimple[i][4] = PadsPerEvent[i]\n",
    "# not used \n",
    "    #xSimple[i][0] = MeanXPerEvent[i]\n",
    "    #xSimple[i][1] = MeanYPerEvent[i]\n",
    "    #xSimple[i][1] = StDevYPerEvent[i]\n",
    "    #xSimple[i][5] = StDevZPerEvent[i]\n",
    "\n",
    "# Dividing entries in train, val and test\n",
    "xSimple_train = xSimple[train_idx][:]\n",
    "xSimple_val = xSimple[val_idx][:]\n",
    "xSimple_test = xSimple[test_idx][:]\n",
    "Labels_train = Labels[train_idx]\n",
    "Labels_val = Labels[val_idx]\n",
    "Labels_test = Labels[test_idx]\n",
    "\n",
    "# Converting to DataFrame for better visualization, and for possible later use\n",
    "X= pd.DataFrame(xSimple)\n",
    "print(\"Design Matrix X:\")\n",
    "X.columns = ['Mean Z','stdev(X)','FCP','Total Q','Pads']\n",
    "X"
   ]
  },
  {
   "cell_type": "code",
   "execution_count": 8,
   "metadata": {},
   "outputs": [],
   "source": [
    "from sklearn.preprocessing import StandardScaler\n",
    "scaler = StandardScaler()\n",
    "scaler.fit(xSimple_train)\n",
    "\n",
    "# Using the standardscaler\n",
    "xSimple_train_stdsc = scaler.transform(xSimple_train)\n",
    "xSimple_val_stdsc = scaler.transform(xSimple_val)"
   ]
  },
  {
   "cell_type": "markdown",
   "metadata": {},
   "source": [
    "# SF: Convolutional Neural Network"
   ]
  },
  {
   "cell_type": "markdown",
   "metadata": {},
   "source": [
    "### How do we create an image out of an event??\n",
    "This is how an event looks like: \n",
    "```\n",
    "DataList[0]\n",
    "```\n",
    "We want to convert this in a 2D image, to use for the CNN algorithm. The first thought is to use the the (x,y) plane, and pixel the surface in ordet to save it as a 2D matrix. The logic choice would be to use the charge deposited on that pad as pixel value - we use the number of time the pad fired in that event, since it leads to better results.\n",
    "\n",
    "**Generating the 2D matrix**: we first need how to set the grid on the x,y place. The exercise does not give us the dimension of the single pads, so we have to figure it out. This can be done in two steps:\n",
    "- Extract the dimension of the x,y projection: In this way we can reconstruct the dimension of the pad plane. \n",
    "- Deduce the dimension of the single pad: We assume that in the simulation the value of x and y was assigned to be the in the center of the pad. We define our pad grid consequently. "
   ]
  },
  {
   "cell_type": "code",
   "execution_count": 9,
   "metadata": {},
   "outputs": [
    {
     "data": {
      "text/plain": [
       "array([(-2.45412970e+00,  1.45075214, 834., 417, 6.73360577e+03, 0),\n",
       "       (-1.33514404e-05,  2.79990482, 834., 417, 1.25854633e+04, 0),\n",
       "       (-2.45412970e+00, -1.45075214, 834., 417, 1.70520808e+03, 0),\n",
       "       ( 2.45413303e+00, -1.45075214, 900., 450, 3.77884522e+03, 0),\n",
       "       (-1.33514404e-05, -2.79990482, 900., 450, 1.13686783e+04, 0),\n",
       "       ( 2.45413303e+00,  1.45075214, 962., 481, 3.21076480e+03, 0),\n",
       "       ( 4.90825081e+00, -5.70140886, 964., 482, 4.45706507e+01, 0),\n",
       "       ( 2.45410442e+00,  7.05056143, 966., 483, 2.11128009e+01, 0),\n",
       "       (-2.45413113e+00, -7.05056143, 984., 492, 1.90553867e+01, 0),\n",
       "       (-4.90824747e+00,  5.70140886, 986., 493, 1.97473273e+01, 0),\n",
       "       ( 4.90825081e+00,  5.70140886, 986., 493, 2.12675051e+01, 0),\n",
       "       (-4.90824747e+00,  2.79990482, 990., 495, 4.76823698e+01, 0),\n",
       "       (-4.90824747e+00, -5.70140886, 990., 495, 2.12226325e+01, 0),\n",
       "       (-4.90824747e+00, -2.79990482, 990., 495, 2.63826991e+02, 0),\n",
       "       ( 4.90825081e+00,  2.79990482, 990., 495, 4.01348998e+02, 0),\n",
       "       (-2.45413113e+00,  7.05056143, 990., 495, 2.26033067e+01, 0),\n",
       "       (-1.33514404e-05,  5.70140886, 992., 496, 4.18758660e+02, 0),\n",
       "       ( 2.45410442e+00, -7.05056143, 992., 496, 5.55712714e+01, 0),\n",
       "       ( 7.36236858e+00,  1.45075214, 996., 498, 9.16391397e+00, 0),\n",
       "       (-1.33514404e-05, -5.70140886, 996., 498, 2.33806124e+02, 0),\n",
       "       ( 4.90825081e+00, -2.79990482, 996., 498, 1.83987018e+02, 0),\n",
       "       (-7.36236525e+00,  1.45075214, 998., 499, 8.28173405e+01, 0),\n",
       "       ( 7.36236858e+00, -1.45075214, 998., 499, 2.62758505e+01, 0),\n",
       "       (-7.36236525e+00, -1.45075214, 998., 499, 1.74805170e+01, 0)],\n",
       "      dtype={'names':['x','y','z','t','A','trackID'], 'formats':['<f8','<f8','<f8','<i4','<f8','<i4'], 'offsets':[0,8,16,24,32,40], 'itemsize':48})"
      ]
     },
     "execution_count": 9,
     "metadata": {},
     "output_type": "execute_result"
    }
   ],
   "source": [
    "DataList[0]"
   ]
  },
  {
   "cell_type": "markdown",
   "metadata": {},
   "source": [
    "#### Step 1 : Get Pad Plane Dimenstion.\n",
    "We can easily extract the dimension of the image we want to create, based on the max/min values of the (x,y)-tuple"
   ]
  },
  {
   "cell_type": "code",
   "execution_count": 10,
   "metadata": {
    "scrolled": false
   },
   "outputs": [
    {
     "name": "stdout",
     "output_type": "stream",
     "text": [
      "PAD PLANE Dimensions: \n",
      "-----------------------------------------------------\n",
      "Max x:  255.228271484375  and Min x:  -255.228271484375\n",
      "Max y:  252.3749542236328  and Min y:  -252.3749542236328\n"
     ]
    }
   ],
   "source": [
    "x_event = []\n",
    "y_event = []\n",
    "       \n",
    "\n",
    "for i in range(len(DataList)): # loop on event number\n",
    "    for j in range(len(DataList[i])): # loop on event rows\n",
    "        x_event.append(DataList[i][j][0])\n",
    "        y_event.append(DataList[i][j][1])\n",
    "        \n",
    "    \n",
    "x_event_ar = np.array(x_event)\n",
    "y_event_ar = np.array(y_event)\n",
    "                     \n",
    "x_event_ar.sort()\n",
    "y_event_ar.sort()\n",
    "x_uniques = np.unique(x_event_ar)\n",
    "y_uniques = np.unique(y_event_ar)\n",
    "#print(x_uniques[x_uniques > 0][0:15])\n",
    "#print(y_uniques[y_uniques > 0][0:15])\n",
    "# printing these value we get the exact spacing between pads. \n",
    "# In the x direction \n",
    "\n",
    "\n",
    "x_lim = np.amax(x_event_ar)\n",
    "y_lim = np.amax(y_event_ar)\n",
    "\n",
    "\n",
    "print(\"PAD PLANE Dimensions: \")\n",
    "print(\"-----------------------------------------------------\")\n",
    "print(\"Max x: \", x_lim  ,\" and Min x: \",  -x_lim )\n",
    "print(\"Max y: \", y_lim  ,\" and Min y: \",  -y_lim )\n"
   ]
  },
  {
   "cell_type": "code",
   "execution_count": 11,
   "metadata": {},
   "outputs": [
    {
     "name": "stdout",
     "output_type": "stream",
     "text": [
      "Scatter Plots: Superposition of all (x,y)-projections\n"
     ]
    },
    {
     "data": {
      "image/png": "[encoded data removed]",
      "text/plain": [
       "<Figure size 576x576 with 1 Axes>"
      ]
     },
     "metadata": {
      "needs_background": "light"
     },
     "output_type": "display_data"
    }
   ],
   "source": [
    "print(\"Scatter Plots: Superposition of all (x,y)-projections\")\n",
    "fig, ax = plt.subplots(figsize=(8, 8))\n",
    "ax.scatter(x_event, y_event, c = \"black\", alpha=0.8)\n",
    "#ax.scatter(np.zeros(len(y_event)), , c = \"blue\", alpha=0.8)\n",
    "ax.set_title(\"Sum of All Events\")\n",
    "ax.set_xlabel(\"X\")\n",
    "ax.set_ylabel(\"Y \")\n",
    "\n",
    "\n",
    "fig.tight_layout()\n",
    "plt.show()\n"
   ]
  },
  {
   "cell_type": "markdown",
   "metadata": {},
   "source": [
    "#### Step 2 : Get Single Pad Dimenstion.\n",
    "First, we plot the superposition of all the projection acquired event by event, in this way the pad structure should become visible. \n",
    "\n",
    "We expect x,y to assume discrete value, and we can extract the increase step. In principle the x and y step may be different (rectangular pads, exagonal, or other shapes), and also the step may differ from region to region. \n",
    "\n",
    "For this exercise purporse, after calculating the step close to the center, we just use the same step along all the pad plane direction, and assume squared pads."
   ]
  },
  {
   "cell_type": "code",
   "execution_count": 12,
   "metadata": {},
   "outputs": [
    {
     "name": "stdout",
     "output_type": "stream",
     "text": [
      "Scatter Plots: (x-y) around the origin\n"
     ]
    },
    {
     "data": {
      "image/png": "[encoded data removed]",
      "text/plain": [
       "<Figure size 576x576 with 1 Axes>"
      ]
     },
     "metadata": {
      "needs_background": "light"
     },
     "output_type": "display_data"
    }
   ],
   "source": [
    "print(\"Scatter Plots: (x-y) around the origin\")       \n",
    "\n",
    "fig, ax = plt.subplots(figsize=(8, 8))\n",
    "ax.scatter(x_event, y_event, c = \"black\", alpha=0.8)\n",
    "ax.set_title(\"Sum of All Events\")\n",
    "ax.set_xlabel(\"X\")\n",
    "ax.set_ylabel(\"Y\")\n",
    "ax.set_xticks(np.arange(-10, 10, 1))\n",
    "ax.set_yticks(np.arange(-10, +10, 1))\n",
    "ax.set_xlim(-10,+10)\n",
    "ax.set_ylim(-10,+10)\n",
    "plt.grid(color='gray', linestyle='-', linewidth=1)\n",
    "\n",
    "fig.tight_layout()\n",
    "plt.show()"
   ]
  },
  {
   "cell_type": "markdown",
   "metadata": {},
   "source": [
    "Here we get a clear idea of the pad plane structure, their shape, and the spacing between every single pad.\n",
    "using a proper grid to pixel the image."
   ]
  },
  {
   "cell_type": "code",
   "execution_count": 13,
   "metadata": {},
   "outputs": [
    {
     "name": "stdout",
     "output_type": "stream",
     "text": [
      "Pixeling over x-direction:\n",
      "----------------------------------\n",
      "x spacing:  2.45411777\n",
      "First x cell limits:  (3.681176655, 1.227058885)\n",
      "Number of pixel in x direction: 104*2+1 =  209\n",
      "\n",
      "Pixeling over y-direction:\n",
      "----------------------------------\n",
      "y spacing:  2.1422616225\n",
      "First y cell limits:  (0, 2.1422616225)\n",
      "Number of pixel on y direction: 118*2 =  236\n"
     ]
    }
   ],
   "source": [
    "x_spc = 2.45411777\n",
    "y_spc = 2.1422616225\n",
    "\n",
    "\n",
    "x_pxl = int(round(x_lim/x_spc)*2+1)\n",
    "\n",
    "y_pxl = int(round(y_lim/y_spc)*2)\n",
    "\n",
    "print(\"Pixeling over x-direction:\")\n",
    "print(\"----------------------------------\")\n",
    "print(\"x spacing: \", x_spc)\n",
    "print(\"First x cell limits: \", (x_spc+x_spc/2, x_spc-x_spc/2))\n",
    "print(\"Number of pixel in x direction: %i*2+1 = \"%((x_pxl-1)/2), x_pxl)\n",
    "print(\"\")\n",
    "\n",
    "print(\"Pixeling over y-direction:\")\n",
    "print(\"----------------------------------\")\n",
    "print(\"y spacing: \", y_spc)\n",
    "print(\"First y cell limits: \", (0, y_spc))\n",
    "print(\"Number of pixel on y direction: %i*2 = \"%(y_pxl/2), y_pxl)\n",
    "\n"
   ]
  },
  {
   "cell_type": "code",
   "execution_count": 14,
   "metadata": {},
   "outputs": [
    {
     "name": "stdout",
     "output_type": "stream",
     "text": [
      "Showing the Pixel Grid\n"
     ]
    },
    {
     "data": {
      "image/png": "[encoded data removed]",
      "text/plain": [
       "<Figure size 576x576 with 1 Axes>"
      ]
     },
     "metadata": {
      "needs_background": "light"
     },
     "output_type": "display_data"
    }
   ],
   "source": [
    "print(\"Showing the Pixel Grid\") \n",
    "# Using Pad Grid (Grid used in converting in picture)\n",
    "fig, ax = plt.subplots(figsize=(8, 8))\n",
    "\n",
    "ax.scatter(x_event, y_event, c = \"black\", alpha=0.8)\n",
    "ax.set_title(\"Sum of All Events\")\n",
    "ax.set_xlabel(\"X\")\n",
    "ax.set_ylabel(\"Y\")\n",
    "ax.set_xticks(np.arange(-x_spc*5+x_spc/2, +x_spc*5, x_spc))\n",
    "ax.set_yticks(np.arange(-y_spc*5, +y_spc*5, y_spc))\n",
    "ax.set_xlim(-10,+10)\n",
    "ax.set_ylim(-10,+10)\n",
    "plt.grid(color='blue', linestyle='-', linewidth=1)\n",
    "\n",
    "\n",
    "\n",
    "\n",
    "fig.tight_layout()\n",
    "plt.show()"
   ]
  },
  {
   "cell_type": "markdown",
   "metadata": {},
   "source": [
    "### Transalte an event into an image\n",
    "We save two different type of images:\n",
    "- images_Q: pixel value is equal to charge deposited.\n",
    "- images: pixel value is the number of time that pixel fired during the event."
   ]
  },
  {
   "cell_type": "code",
   "execution_count": 15,
   "metadata": {
    "scrolled": true
   },
   "outputs": [],
   "source": [
    "# 1st inxes Event, 2nd y, 3rd x\n",
    "images_Q = np.zeros((len(DataList),236,209))\n",
    "images = np.zeros((len(DataList),236,209))\n",
    "\n",
    "for i in range(len(DataList)): # loop on event number\n",
    "    for j in range(len(DataList[i])): # loop on event rows\n",
    "        n_y = int(DataList[i][j][1]/y_spc) + 118 # calculate which y image pixel fired\n",
    "        n_x = int((DataList[i][j][0]-x_spc/2)/x_spc) + 104 # calculate which x image pixel fired\n",
    "        images_Q[i][n_y][n_x] =  images_Q[i][n_y][n_x] + DataList[i][j][4] \n",
    "        images[i][n_y][n_x] =  images[i][n_y][n_x] + 1\n",
    "\n",
    "# Normalize the data (0-255)\n",
    "images = normalize_image_data(images)"
   ]
  },
  {
   "cell_type": "markdown",
   "metadata": {},
   "source": [
    "The images are now created on a grid 236x209 and normalized form (0,255)\n",
    "\n",
    "### Reducing Images Dimenstion\n",
    "We want to reduce the dimension to limit the time to run the model. Also most of the information is contained in the center of the pad plane. "
   ]
  },
  {
   "cell_type": "code",
   "execution_count": 16,
   "metadata": {},
   "outputs": [],
   "source": [
    "# Working with reduced images\n",
    "dim = 40\n",
    "images_reduced_Q = np.zeros((len(DataList),dim,dim))\n",
    "images_reduced = np.zeros((len(DataList),dim,dim))\n",
    "for i in range(len(DataList)): \n",
    "    for j in range(dim): # y (0,236) mid is 118. ind 118-20, 118+20\n",
    "        for h in range(dim): # x (0,209) mid pxl is 104. ind 104-20 , 104+19\n",
    "            images_reduced_Q[i][j][h] =  images_Q[i][j+118-int(dim/2)][h+104-int(dim/2)]  \n",
    "            images_reduced[i][j][h] =  images[i][j+118-int(dim/2)][h+104-int(dim/2)] "
   ]
  },
  {
   "cell_type": "code",
   "execution_count": 50,
   "metadata": {},
   "outputs": [
    {
     "name": "stdout",
     "output_type": "stream",
     "text": [
      "Images where the pixel value correspond to the number of time the pixel fired:\n"
     ]
    },
    {
     "data": {
      "image/png": "[encoded data removed]",
      "text/plain": [
       "<Figure size 1296x720 with 4 Axes>"
      ]
     },
     "metadata": {
      "needs_background": "light"
     },
     "output_type": "display_data"
    }
   ],
   "source": [
    "# Plot some Images\n",
    "print(\"Images where the pixel value correspond to the number of time the pixel fired:\")\n",
    "plot_row = 2\n",
    "idx = 0\n",
    "fig, ax = plt.subplots(plot_row,2,figsize=(18, plot_row*5))\n",
    "for i in range(plot_row):\n",
    "    for j in range(2): \n",
    "        ax[i][j].imshow(images_reduced[idx], cmap='inferno')\n",
    "        if Labels[idx]>0.5:\n",
    "            ax[i][j].set_title(\"Image \"+ str(idx) + \": Reaction Event\")\n",
    "        else:\n",
    "            ax[i][j].set_title(\"Image \"+ str(idx) + \": Beam Event\")\n",
    "            \n",
    "        ax[i][j].set_xlabel(\"Pixel X\")\n",
    "        ax[i][j].set_ylabel(\"Pixel Y\")\n",
    "        \n",
    "\n",
    "        idx = idx +1\n",
    "\n",
    "fig.tight_layout() # adjust automatically spacing between sublots\n",
    "plt.show()"
   ]
  },
  {
   "cell_type": "code",
   "execution_count": 51,
   "metadata": {},
   "outputs": [
    {
     "name": "stdout",
     "output_type": "stream",
     "text": [
      "Images where the pixel value correspond to the charge deposited\n"
     ]
    },
    {
     "data": {
      "image/png": "[encoded data removed]",
      "text/plain": [
       "<Figure size 1296x720 with 4 Axes>"
      ]
     },
     "metadata": {
      "needs_background": "light"
     },
     "output_type": "display_data"
    }
   ],
   "source": [
    "idx = 0\n",
    "print(\"Images where the pixel value correspond to the charge deposited\")\n",
    "fig, ax = plt.subplots(plot_row,2,figsize=(18, plot_row*5))\n",
    "for i in range(plot_row):\n",
    "    for j in range(2): \n",
    "        ax[i][j].imshow(images_reduced_Q[idx], cmap='inferno')\n",
    "        if Labels[idx]>0.5:\n",
    "            ax[i][j].set_title(\"Image \"+ str(idx) + \": Reaction Event\")\n",
    "        else:\n",
    "            ax[i][j].set_title(\"Image \"+ str(idx) + \": Beam Event\")\n",
    "            \n",
    "        ax[i][j].set_xlabel(\"Pixel X\")\n",
    "        ax[i][j].set_ylabel(\"Pixel Y\")\n",
    "        \n",
    "\n",
    "        idx = idx +1\n",
    "\n",
    "fig.tight_layout() # adjust automatically spacing between sublots\n",
    "plt.show()"
   ]
  },
  {
   "cell_type": "markdown",
   "metadata": {},
   "source": [
    "In order to distinguish between beam - reaction the first choice (images) looks better.\n",
    "\n",
    "### Convolutional Network"
   ]
  },
  {
   "cell_type": "code",
   "execution_count": 19,
   "metadata": {
    "scrolled": true
   },
   "outputs": [
    {
     "name": "stdout",
     "output_type": "stream",
     "text": [
      "(1995, 40, 40, 1)\n",
      "\n",
      "(1496, 40, 40, 1)\n",
      "(499, 40, 40, 1)\n"
     ]
    }
   ],
   "source": [
    "from keras.utils import to_categorical\n",
    "\n",
    "images = np.reshape(images_reduced, (images_reduced.shape[0], 40, 40, 1)) # image, x, y, ch\n",
    "images_train, images_val, labels_train, labels_val = train_test_split(images, Labels)\n",
    "label2_train = to_categorical(labels_train)\n",
    "label2_val = to_categorical(labels_val)\n",
    "\n",
    "print(images.shape)\n",
    "print(\"\")\n",
    "print(images_train.shape)\n",
    "print(images_val.shape)\n",
    "\n",
    "\n",
    "\n"
   ]
  },
  {
   "cell_type": "markdown",
   "metadata": {},
   "source": [
    "### Setting the model"
   ]
  },
  {
   "cell_type": "code",
   "execution_count": 20,
   "metadata": {},
   "outputs": [
    {
     "name": "stdout",
     "output_type": "stream",
     "text": [
      "WARNING:tensorflow:From C:\\Users\\fraca\\anaconda3\\lib\\site-packages\\tensorflow\\python\\ops\\init_ops.py:1251: calling VarianceScaling.__init__ (from tensorflow.python.ops.init_ops) with dtype is deprecated and will be removed in a future version.\n",
      "Instructions for updating:\n",
      "Call initializer instance with the dtype argument instead of passing it to the constructor\n",
      "Model: \"sequential\"\n",
      "_________________________________________________________________\n",
      "Layer (type)                 Output Shape              Param #   \n",
      "=================================================================\n",
      "conv2d (Conv2D)              (None, 40, 40, 128)       12928     \n",
      "_________________________________________________________________\n",
      "batch_normalization (BatchNo (None, 40, 40, 128)       512       \n",
      "_________________________________________________________________\n",
      "max_pooling2d (MaxPooling2D) (None, 10, 10, 128)       0         \n",
      "_________________________________________________________________\n",
      "conv2d_1 (Conv2D)            (None, 8, 8, 64)          73792     \n",
      "_________________________________________________________________\n",
      "flatten (Flatten)            (None, 4096)              0         \n",
      "_________________________________________________________________\n",
      "dense (Dense)                (None, 40)                163880    \n",
      "_________________________________________________________________\n",
      "dense_1 (Dense)              (None, 2)                 82        \n",
      "=================================================================\n",
      "Total params: 251,194\n",
      "Trainable params: 250,938\n",
      "Non-trainable params: 256\n",
      "_________________________________________________________________\n"
     ]
    }
   ],
   "source": [
    "my_model = tf.keras.Sequential()\n",
    "\n",
    "my_model.add(tf.keras.layers.Conv2D(\n",
    "        filters=128,\n",
    "        kernel_size=(10, 10),\n",
    "        activation='relu',\n",
    "        padding='same',\n",
    "        input_shape=images.shape[1:] # Shape of a single imag\n",
    "                                )\n",
    "        )\n",
    "\n",
    "my_model.add(BatchNormalization())\n",
    "\n",
    "my_model.add(tf.keras.layers.MaxPooling2D(pool_size=(4, 4)))\n",
    "my_model.add(tf.keras.layers.Conv2D(64, kernel_size=3, activation='relu'))\n",
    "my_model.add(tf.keras.layers.Flatten())\n",
    "my_model.add(tf.keras.layers.Dense(40, activation='relu'))\n",
    "my_model.add(tf.keras.layers.Dense(2, activation='softmax'))\n",
    "\n",
    "# Once the model is defined, we need to compile it. \n",
    "# This is where we specify the loss function, optimizer, and metrics if we want.\n",
    "my_model.compile(\n",
    "    tf.keras.optimizers.Adam(lr=0.0001, beta_1=0.8, beta_2=0.9),\n",
    "    loss='binary_crossentropy',\n",
    "    metrics=['accuracy']\n",
    ")\n",
    "my_model.summary()"
   ]
  },
  {
   "cell_type": "code",
   "execution_count": 21,
   "metadata": {
    "scrolled": false
   },
   "outputs": [
    {
     "name": "stdout",
     "output_type": "stream",
     "text": [
      "Train on 200 samples, validate on 50 samples\n",
      "WARNING:tensorflow:From C:\\Users\\fraca\\anaconda3\\lib\\site-packages\\tensorflow\\python\\ops\\math_grad.py:1250: add_dispatch_support.<locals>.wrapper (from tensorflow.python.ops.array_ops) is deprecated and will be removed in a future version.\n",
      "Instructions for updating:\n",
      "Use tf.where in 2.0, which has the same broadcast rule as np.where\n",
      "Epoch 1/20\n",
      "200/200 [==============================] - 5s 27ms/sample - loss: 1.3524 - acc: 0.6400 - val_loss: 0.0592 - val_acc: 0.9800\n",
      "Epoch 2/20\n",
      "200/200 [==============================] - 5s 25ms/sample - loss: 0.2045 - acc: 0.9050 - val_loss: 0.0411 - val_acc: 0.9600\n",
      "Epoch 3/20\n",
      "200/200 [==============================] - 5s 25ms/sample - loss: 0.1014 - acc: 0.9700 - val_loss: 0.0176 - val_acc: 1.0000\n",
      "Epoch 4/20\n",
      "200/200 [==============================] - 5s 25ms/sample - loss: 0.0750 - acc: 0.9750 - val_loss: 0.0109 - val_acc: 1.0000\n",
      "Epoch 5/20\n",
      "200/200 [==============================] - 5s 25ms/sample - loss: 0.0616 - acc: 0.9800 - val_loss: 0.0071 - val_acc: 1.0000\n",
      "Epoch 6/20\n",
      "200/200 [==============================] - 5s 25ms/sample - loss: 0.0456 - acc: 0.9850 - val_loss: 0.0060 - val_acc: 1.0000\n",
      "Epoch 7/20\n",
      "200/200 [==============================] - 5s 25ms/sample - loss: 0.0348 - acc: 0.9900 - val_loss: 0.0037 - val_acc: 1.0000\n",
      "Epoch 8/20\n",
      "200/200 [==============================] - 5s 24ms/sample - loss: 0.0303 - acc: 0.9900 - val_loss: 0.0027 - val_acc: 1.0000\n",
      "Epoch 9/20\n",
      "200/200 [==============================] - 5s 24ms/sample - loss: 0.0223 - acc: 0.9950 - val_loss: 0.0024 - val_acc: 1.0000\n",
      "Epoch 10/20\n",
      "200/200 [==============================] - 5s 24ms/sample - loss: 0.0185 - acc: 0.9950 - val_loss: 0.0025 - val_acc: 1.0000\n",
      "Epoch 11/20\n",
      "200/200 [==============================] - 5s 24ms/sample - loss: 0.0167 - acc: 0.9950 - val_loss: 0.0018 - val_acc: 1.0000\n",
      "Epoch 12/20\n",
      "200/200 [==============================] - 5s 24ms/sample - loss: 0.0136 - acc: 0.9950 - val_loss: 0.0013 - val_acc: 1.0000\n",
      "Epoch 13/20\n",
      "200/200 [==============================] - 5s 24ms/sample - loss: 0.0114 - acc: 1.0000 - val_loss: 0.0011 - val_acc: 1.0000\n",
      "Epoch 14/20\n",
      "200/200 [==============================] - 5s 24ms/sample - loss: 0.0099 - acc: 1.0000 - val_loss: 0.0011 - val_acc: 1.0000\n",
      "Epoch 15/20\n",
      "200/200 [==============================] - 5s 24ms/sample - loss: 0.0078 - acc: 1.0000 - val_loss: 0.0013 - val_acc: 1.0000\n",
      "Epoch 16/20\n",
      "200/200 [==============================] - 5s 24ms/sample - loss: 0.0066 - acc: 1.0000 - val_loss: 0.0013 - val_acc: 1.0000\n",
      "Epoch 17/20\n",
      "200/200 [==============================] - 5s 25ms/sample - loss: 0.0060 - acc: 1.0000 - val_loss: 0.0011 - val_acc: 1.0000\n",
      "Epoch 18/20\n",
      "200/200 [==============================] - 5s 25ms/sample - loss: 0.0049 - acc: 1.0000 - val_loss: 8.9518e-04 - val_acc: 1.0000\n",
      "Epoch 19/20\n",
      "200/200 [==============================] - 5s 24ms/sample - loss: 0.0050 - acc: 1.0000 - val_loss: 8.8383e-04 - val_acc: 1.0000\n",
      "Epoch 20/20\n",
      "200/200 [==============================] - 5s 27ms/sample - loss: 0.0040 - acc: 1.0000 - val_loss: 0.0013 - val_acc: 1.0000\n"
     ]
    }
   ],
   "source": [
    "history = my_model.fit(images_train[:250],\n",
    "          label2_train[:250],\n",
    "          batch_size=128,\n",
    "          epochs=20,\n",
    "          validation_split=0.2);"
   ]
  },
  {
   "cell_type": "code",
   "execution_count": 22,
   "metadata": {},
   "outputs": [
    {
     "data": {
      "image/png": "[encoded data removed]",
      "text/plain": [
       "<Figure size 1008x432 with 2 Axes>"
      ]
     },
     "metadata": {
      "needs_background": "light"
     },
     "output_type": "display_data"
    }
   ],
   "source": [
    "make_nn_plots(history,0.95)"
   ]
  },
  {
   "cell_type": "markdown",
   "metadata": {},
   "source": [
    "### Using VGG model"
   ]
  },
  {
   "cell_type": "code",
   "execution_count": 44,
   "metadata": {},
   "outputs": [
    {
     "data": {
      "text/plain": [
       "(1995, 40, 40, 3)"
      ]
     },
     "execution_count": 44,
     "metadata": {},
     "output_type": "execute_result"
    }
   ],
   "source": [
    "images_3d = np.expand_dims(images_reduced,3)\n",
    "images_3d = np.repeat(images_3d,3,3)\n",
    "\n",
    "images_3d.shape\n"
   ]
  },
  {
   "cell_type": "code",
   "execution_count": 45,
   "metadata": {},
   "outputs": [],
   "source": [
    "# Split the data into training and validation sets\n",
    "images_train, images_val, labels_train, labels_val = train_test_split(images_3d, Labels)\n",
    "\n",
    "model = build_pretrained_vgg_model((dim,dim,3), 2)\n",
    "\n",
    "model.compile(optimizer=tf.keras.optimizers.Adam(lr=0.005), \n",
    "              loss='sparse_categorical_crossentropy',\n",
    "              metrics=['accuracy'])"
   ]
  },
  {
   "cell_type": "code",
   "execution_count": 46,
   "metadata": {},
   "outputs": [
    {
     "name": "stdout",
     "output_type": "stream",
     "text": [
      "Train on 200 samples, validate on 50 samples\n",
      "Epoch 1/20\n",
      "200/200 [==============================] - 2s 12ms/sample - loss: 2.4828 - acc: 0.8300 - val_loss: 0.1526 - val_acc: 0.9800\n",
      "Epoch 2/20\n",
      "200/200 [==============================] - 2s 10ms/sample - loss: 0.1448 - acc: 0.9850 - val_loss: 0.0000e+00 - val_acc: 1.0000\n",
      "Epoch 3/20\n",
      "200/200 [==============================] - 2s 10ms/sample - loss: 0.0580 - acc: 0.9950 - val_loss: 0.0000e+00 - val_acc: 1.0000\n",
      "Epoch 4/20\n",
      "200/200 [==============================] - 2s 10ms/sample - loss: 0.0000e+00 - acc: 1.0000 - val_loss: 0.0000e+00 - val_acc: 1.0000\n",
      "Epoch 5/20\n",
      "200/200 [==============================] - 2s 10ms/sample - loss: 0.0000e+00 - acc: 1.0000 - val_loss: 0.0000e+00 - val_acc: 1.0000\n",
      "Epoch 6/20\n",
      "200/200 [==============================] - 2s 10ms/sample - loss: 0.0000e+00 - acc: 1.0000 - val_loss: 0.0000e+00 - val_acc: 1.0000\n",
      "Epoch 7/20\n",
      "200/200 [==============================] - 2s 11ms/sample - loss: 0.0000e+00 - acc: 1.0000 - val_loss: 0.0000e+00 - val_acc: 1.0000\n",
      "Epoch 8/20\n",
      "200/200 [==============================] - 2s 12ms/sample - loss: 0.0000e+00 - acc: 1.0000 - val_loss: 0.0000e+00 - val_acc: 1.0000\n",
      "Epoch 9/20\n",
      "200/200 [==============================] - 2s 12ms/sample - loss: 1.1921e-09 - acc: 1.0000 - val_loss: 0.0000e+00 - val_acc: 1.0000\n",
      "Epoch 10/20\n",
      "200/200 [==============================] - 3s 13ms/sample - loss: 1.7881e-09 - acc: 1.0000 - val_loss: 0.0000e+00 - val_acc: 1.0000\n",
      "Epoch 11/20\n",
      "200/200 [==============================] - 3s 13ms/sample - loss: 2.9802e-09 - acc: 1.0000 - val_loss: 0.0000e+00 - val_acc: 1.0000\n",
      "Epoch 12/20\n",
      "200/200 [==============================] - 3s 14ms/sample - loss: 2.9802e-09 - acc: 1.0000 - val_loss: 0.0000e+00 - val_acc: 1.0000\n",
      "Epoch 13/20\n",
      "200/200 [==============================] - 3s 13ms/sample - loss: 2.9802e-09 - acc: 1.0000 - val_loss: 0.0000e+00 - val_acc: 1.0000\n",
      "Epoch 14/20\n",
      "200/200 [==============================] - 3s 14ms/sample - loss: 2.9802e-09 - acc: 1.0000 - val_loss: 0.0000e+00 - val_acc: 1.0000\n",
      "Epoch 15/20\n",
      "200/200 [==============================] - 3s 14ms/sample - loss: 2.3842e-09 - acc: 1.0000 - val_loss: 0.0000e+00 - val_acc: 1.0000\n",
      "Epoch 16/20\n",
      "200/200 [==============================] - 2s 12ms/sample - loss: 2.3842e-09 - acc: 1.0000 - val_loss: 0.0000e+00 - val_acc: 1.0000\n",
      "Epoch 17/20\n",
      "200/200 [==============================] - 3s 13ms/sample - loss: 2.3842e-09 - acc: 1.0000 - val_loss: 0.0000e+00 - val_acc: 1.0000\n",
      "Epoch 18/20\n",
      "200/200 [==============================] - 3s 13ms/sample - loss: 2.3842e-09 - acc: 1.0000 - val_loss: 0.0000e+00 - val_acc: 1.0000\n",
      "Epoch 19/20\n",
      "200/200 [==============================] - 3s 13ms/sample - loss: 1.7881e-09 - acc: 1.0000 - val_loss: 0.0000e+00 - val_acc: 1.0000\n",
      "Epoch 20/20\n",
      "200/200 [==============================] - 3s 13ms/sample - loss: 1.7881e-09 - acc: 1.0000 - val_loss: 0.0000e+00 - val_acc: 1.0000\n"
     ]
    }
   ],
   "source": [
    "history_vgg = model.fit(images_train[:250],\n",
    "          labels_train[:250],\n",
    "          batch_size=32,\n",
    "          epochs=20,\n",
    "          validation_split=0.2);"
   ]
  },
  {
   "cell_type": "code",
   "execution_count": 48,
   "metadata": {},
   "outputs": [
    {
     "data": {
      "image/png": "[encoded data removed]",
      "text/plain": [
       "<Figure size 1008x432 with 2 Axes>"
      ]
     },
     "metadata": {
      "needs_background": "light"
     },
     "output_type": "display_data"
    }
   ],
   "source": [
    "make_nn_plots(history_vgg,0.95)"
   ]
  },
  {
   "cell_type": "code",
   "execution_count": null,
   "metadata": {},
   "outputs": [],
   "source": []
  }
 ],
 "metadata": {
  "kernelspec": {
   "display_name": "Python 3",
   "language": "python",
   "name": "python3"
  },
  "language_info": {
   "codemirror_mode": {
    "name": "ipython",
    "version": 3
   },
   "file_extension": ".py",
   "mimetype": "text/x-python",
   "name": "python",
   "nbconvert_exporter": "python",
   "pygments_lexer": "ipython3",
   "version": "3.7.6"
  }
 },
 "nbformat": 4,
 "nbformat_minor": 4
}

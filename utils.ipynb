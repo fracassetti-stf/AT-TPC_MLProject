{
 "cells": [
  {
   "cell_type": "code",
   "execution_count": 72,
   "metadata": {},
   "outputs": [],
   "source": [
    "import h5py\n",
    "import matplotlib.pyplot as plt\n",
    "from mpl_toolkits import mplot3d"
   ]
  },
  {
   "cell_type": "code",
   "execution_count": 42,
   "metadata": {},
   "outputs": [],
   "source": [
    "class Event:\n",
    "        \"\"\" Simulated ATPC event class\"\"\"\n",
    "        def __init__(self,id, label):\n",
    "            \n",
    "            self.x = []\n",
    "            self.y = []\n",
    "            self.z = []\n",
    "            self.q = []\n",
    "            self.id = id\n",
    "            self.label = label\n",
    "            \n",
    "        def summary(self):\n",
    "            \n",
    "            print(\"x: \",self.x)\n",
    "            print(\"y: \",self.y)\n",
    "            print(\"z: \",self.z)\n",
    "            print(\"q: \",self.q)\n",
    "            print(\"id: \",self.id)\n",
    "            print(\"label\", self.label)\n",
    "            \n"
   ]
  },
  {
   "cell_type": "code",
   "execution_count": 49,
   "metadata": {},
   "outputs": [],
   "source": [
    "def load_sim_data(filename):\n",
    "    \n",
    "    datasets = []\n",
    "    \n",
    "    with h5py.File(filename,'r') as h5:\n",
    "                \n",
    "        for key in h5.keys():\n",
    "            \n",
    "            # Getting event label\n",
    "            # even = reaction, odd = beam\n",
    "            id    = int(key[key.find('[')+1:key.find(']')])\n",
    "            label = 0 if id % 2 == 0 else 1\n",
    "            \n",
    "            e = Event(id, label)\n",
    "            \n",
    "            for x,y,z,t,A in zip(h5[key]['x'],h5[key]['y'],h5[key]['z'],h5[key]['t'],h5[key]['A']):\n",
    "                \n",
    "                e.x.append(x)\n",
    "                e.y.append(y)\n",
    "                e.z.append(z)\n",
    "                e.q.append(A)\n",
    "            \n",
    "            # Do not load empty events\n",
    "            if( len(e.x) == 0 or len(e.y) == 0 or len(e.z) == 0 ) : continue\n",
    "            \n",
    "            datasets.append(e)\n",
    "            \n",
    "    datasets.sort(key=lambda e: e.id, reverse=False)\n",
    "    return datasets"
   ]
  },
  {
   "cell_type": "code",
   "execution_count": 47,
   "metadata": {},
   "outputs": [],
   "source": [
    "def plot_event(df,id):\n",
    "    fig = plt.figure(figsize=(7, 7))\n",
    "    ax = fig.add_subplot(111, projection='3d')\n",
    "    ax.set_xlabel('x [mm]')\n",
    "    ax.set_ylabel('y [mm]')\n",
    "    ax.set_zlabel('z [mm]')\n",
    "    ax.set_title('Event #'+str(df[id].id), fontsize=15)\n",
    "    ax.scatter3D(df[id].x,df[id].y,df[id].z, marker='o')"
   ]
  },
  {
   "cell_type": "code",
   "execution_count": 53,
   "metadata": {},
   "outputs": [],
   "source": [
    "def plot_2D(df,id):\n",
    "    \n",
    "    fig  = plt.figure(figsize=(7, 7))\n",
    "    plt.xlabel('x [mm]')\n",
    "    plt.ylabel('y [mm]')\n",
    "    plt.title('Event #'+str(df[id].id), fontsize=15)\n",
    "    plt.scatter(df[id].x, df[id].y, marker='o')\n",
    "    "
   ]
  },
  {
   "cell_type": "code",
   "execution_count": null,
   "metadata": {},
   "outputs": [],
   "source": []
  }
 ],
 "metadata": {
  "kernelspec": {
   "display_name": "Python 3",
   "language": "python",
   "name": "python3"
  },
  "language_info": {
   "codemirror_mode": {
    "name": "ipython",
    "version": 3
   },
   "file_extension": ".py",
   "mimetype": "text/x-python",
   "name": "python",
   "nbconvert_exporter": "python",
   "pygments_lexer": "ipython3",
   "version": "3.8.2"
  }
 },
 "nbformat": 4,
 "nbformat_minor": 4
}

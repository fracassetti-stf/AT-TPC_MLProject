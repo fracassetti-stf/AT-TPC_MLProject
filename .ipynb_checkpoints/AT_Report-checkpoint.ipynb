{
 "cells": [
  {
   "cell_type": "markdown",
   "metadata": {},
   "source": [
    "# <p style=\"text-align: center;\">AT-TPC Report"
   ]
  },
  {
   "cell_type": "markdown",
   "metadata": {},
   "source": [
    " ### <p style=\"text-align: right;\">Authors:\n",
    "<p style=\"text-align: right;\">Ceulemans Andreas, Fracassetti Stefano, Youssef Ahmed\n",
    "    "
   ]
  },
  {
   "cell_type": "markdown",
   "metadata": {},
   "source": [
    "![Active Target](img/AT_drawing.png)"
   ]
  },
  {
   "cell_type": "markdown",
   "metadata": {},
   "source": [
    "# Description of the Project:\n"
   ]
  },
  {
   "cell_type": "markdown",
   "metadata": {},
   "source": [
    "### Task\n",
    "The main objective is to classify events aquired from an Active Target (simulated data), as being \"beam\" or \"reaction\" events. The idea is to implement a \"software trigger\" which would be able to effectively select only relevant data to save on disk for future analysis."
   ]
  },
  {
   "cell_type": "markdown",
   "metadata": {},
   "source": [
    "### Data Format\n",
    "Data are saved in the file \"Mg22_alphaalpha_digiSim.h5\", which contains 2000 simulated events: even numbers are \"reaction\" events, while odd numbers are \"beam\" event.<br>\n",
    "Each event is constitued by a point cloud of the active pads for that event.<br>\n",
    "In turn, every hit pad is associated with a 4-tuple (x,y,z,q): x and y are the position of the hit pad on the detector plane, z is the coordinare associated to the beam axis, and q is the charge deposited on the pad.<br> \n",
    "Actually, there is an extra column associated with time (not needed since data already contains the z coordinate thanks to a pre-processing phase), and also an extra column of zeros, unnecessary for this analysis.<br>\n",
    "The number of hit pads may vary for each event, ranging from around 20, up to a few hundred."
   ]
  },
  {
   "cell_type": "markdown",
   "metadata": {},
   "source": [
    "### Strategy\n",
    "We will apply the ML techiques learned during the Talent Course, in order to analyse the data and reach the best performance possible.<br>\n",
    "First there will be a section dedicated to data visualization, and in which we will discuss the general characteristic of the task. Afterwards, we will propose various approaches to tackle to problem, and show the results for each methods. Eventually, we will summarize and discuss the outcomes in the final section.\n",
    "\n",
    "Models used in this project:\n",
    "- Logistic Regression\n",
    "- Random Forest\n",
    "- Dense Neural Networks DNN\n",
    "- K-Means"
   ]
  },
  {
   "cell_type": "markdown",
   "metadata": {},
   "source": [
    "# Data Visualization\n"
   ]
  },
  {
   "cell_type": "markdown",
   "metadata": {},
   "source": [
    "# Machine Learning"
   ]
  },
  {
   "cell_type": "markdown",
   "metadata": {},
   "source": [
    "# Conclusions"
   ]
  },
  {
   "cell_type": "code",
   "execution_count": null,
   "metadata": {},
   "outputs": [],
   "source": []
  }
 ],
 "metadata": {
  "kernelspec": {
   "display_name": "Python 3",
   "language": "python",
   "name": "python3"
  },
  "language_info": {
   "codemirror_mode": {
    "name": "ipython",
    "version": 3
   },
   "file_extension": ".py",
   "mimetype": "text/x-python",
   "name": "python",
   "nbconvert_exporter": "python",
   "pygments_lexer": "ipython3",
   "version": "3.7.6"
  }
 },
 "nbformat": 4,
 "nbformat_minor": 4
}
